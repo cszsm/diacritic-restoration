{
 "cells": [
  {
   "cell_type": "markdown",
   "metadata": {},
   "source": [
    "# Extract words from MNSZ database"
   ]
  },
  {
   "cell_type": "code",
   "execution_count": 1,
   "metadata": {
    "collapsed": true
   },
   "outputs": [],
   "source": [
    "import pickle\n",
    "import collections\n",
    "import pandas as pd"
   ]
  },
  {
   "cell_type": "code",
   "execution_count": 2,
   "metadata": {
    "collapsed": true
   },
   "outputs": [],
   "source": [
    "dictionary_file='~/hnc-1.3-wordfreq.txt'\n",
    "out_file='~/new_dict.pickle'\n",
    "lowercase=True\n",
    "words = pd.read_table(open(dictionary_file,encoding='iso-8859-2'),header=None,sep='\\t')"
   ]
  },
  {
   "cell_type": "code",
   "execution_count": 3,
   "metadata": {
    "collapsed": false
   },
   "outputs": [
    {
     "name": "stdout",
     "output_type": "stream",
     "text": [
      "number of filtered elements: 3046499\n"
     ]
    }
   ],
   "source": [
    "selected_words=set()\n",
    "for i in range(0,len(words)):\n",
    "    if words[1][i]!='UNKNOWNTAG':\n",
    "        selected_words.add(str(words[0][i]).lower())\n",
    "print(\"number of filtered elements:\", len(selected_words))"
   ]
  },
  {
   "cell_type": "code",
   "execution_count": 4,
   "metadata": {
    "collapsed": false
   },
   "outputs": [],
   "source": [
    "alphaordered_list=sorted(list(selected_words))"
   ]
  },
  {
   "cell_type": "code",
   "execution_count": 5,
   "metadata": {
    "collapsed": false
   },
   "outputs": [
    {
     "name": "stdout",
     "output_type": "stream",
     "text": [
      "extracted  3046499  filtered words\n"
     ]
    }
   ],
   "source": [
    "pickle.dump(alphaordered_list,open(\"~/extracted_correct_words_from_MNSZ.pickle\",\"wb\"))\n",
    "print(\"extracted \",len(alphaordered_list), \" filtered words\")"
   ]
  }
 ],
 "metadata": {
  "kernelspec": {
   "display_name": "Python 3",
   "language": "python",
   "name": "python3"
  },
  "language_info": {
   "codemirror_mode": {
    "name": "ipython",
    "version": 3
   },
   "file_extension": ".py",
   "mimetype": "text/x-python",
   "name": "python",
   "nbconvert_exporter": "python",
   "pygments_lexer": "ipython3",
   "version": "3.4.2"
  }
 },
 "nbformat": 4,
 "nbformat_minor": 1
}
