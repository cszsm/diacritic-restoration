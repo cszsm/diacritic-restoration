{
 "cells": [
  {
   "cell_type": "markdown",
   "metadata": {},
   "source": [
    "# Collect differently accentizable words from Corpus"
   ]
  },
  {
   "cell_type": "code",
   "execution_count": null,
   "metadata": {
    "collapsed": true
   },
   "outputs": [],
   "source": [
    "import re\n",
    "import pickle\n",
    "import csv"
   ]
  },
  {
   "cell_type": "code",
   "execution_count": null,
   "metadata": {
    "collapsed": true
   },
   "outputs": [],
   "source": [
    "def deacc(str):\n",
    "    accentized=['Á','á','É',\"é\",'Í','í','Ú','ú','Ü','ü','Ö','ö','Ű','ű','Ó','ó','Ő','ő']\n",
    "    decentized=['A','a','E',\"e\",'I','i','U','u','U','u','O','o','U','u','O','o','O','o']\n",
    "\n",
    "    for j in range(18):\n",
    "        str=str.replace(accentized[j],decentized[j])\n",
    "        \n",
    "    return str"
   ]
  },
  {
   "cell_type": "code",
   "execution_count": 9,
   "metadata": {
    "collapsed": false,
    "scrolled": true
   },
   "outputs": [],
   "source": [
    "def collect_multiples_with_surrounding_from_text(list_name,path,outname):\n",
    "    multis=open(list_name,'rb')\n",
    "    multiformwords=pickle.load(multis)\n",
    "\n",
    "\n",
    "    length=len(multiformwords)\n",
    "\n",
    "    print(\"Number of multiform words in list: \",length)\n",
    "\n",
    "    words=[]\n",
    "\n",
    "    with open(path,'r') as f:\n",
    "        for line in f:\n",
    "            for word in line.split():\n",
    "               words.append(word.lower().replace(',','').replace('.','').replace('-','')) \n",
    "\n",
    "    #print(words[100:2000])\n",
    "\n",
    "    excel=open(outname,'w')\n",
    "\n",
    "    fieldnames = ['-4', '-3', '-2', '-1', 'WORD', '1', '2', '3', '4']\n",
    "    dialect=csv.excel_tab\n",
    "    writer = csv.DictWriter(excel, fieldnames=fieldnames,dialect=dialect)\n",
    "    writer.writeheader()\n",
    "\n",
    "    i=0\n",
    "    c=0\n",
    "    for szo in words:\n",
    "        if deacc(szo) in multiformwords and deacc(szo)!='a' and deacc(szo)!='az' and deacc(szo)!='es' and deacc(szo)!='egy ':\n",
    "            c+=1\n",
    "            if c==2001:\n",
    "                break\n",
    "            writer.writerow({'-4':words[i-4], '-3':words[i-3], '-2':words[i-2], '-1':words[i-1], 'WORD':deacc(szo), '1':words[i+1], '2':words[i+2], '3':words[i+3], '4':words[i+4]})\n",
    "        i+=1\n",
    "    print(\"extracted multiform words with surroundings from \",path,\" to\", outname)"
   ]
  },
  {
   "cell_type": "markdown",
   "metadata": {},
   "source": [
    "Run the function:"
   ]
  },
  {
   "cell_type": "code",
   "execution_count": null,
   "metadata": {
    "collapsed": true
   },
   "outputs": [],
   "source": [
    "collect_multiples_with_surrounding_from_text('multiples_new_from_MNSZ.pickle','textract/textract_2.txt','excel.csv')"
   ]
  }
 ],
 "metadata": {
  "kernelspec": {
   "display_name": "Python 3",
   "language": "python",
   "name": "python3"
  },
  "language_info": {
   "codemirror_mode": {
    "name": "ipython",
    "version": 3
   },
   "file_extension": ".py",
   "mimetype": "text/x-python",
   "name": "python",
   "nbconvert_exporter": "python",
   "pygments_lexer": "ipython3",
   "version": "3.4.2"
  }
 },
 "nbformat": 4,
 "nbformat_minor": 1
}
