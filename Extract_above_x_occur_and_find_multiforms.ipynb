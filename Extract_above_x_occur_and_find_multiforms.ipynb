{
 "cells": [
  {
   "cell_type": "markdown",
   "metadata": {},
   "source": [
    "# Extract top occuring words from webcorpus frequency list"
   ]
  },
  {
   "cell_type": "code",
   "execution_count": 1,
   "metadata": {
    "collapsed": false
   },
   "outputs": [],
   "source": [
    "import pickle\n",
    "import collections\n",
    "import pandas as pd\n",
    "from deaccentize import deaccentize, deaccentize_list"
   ]
  },
  {
   "cell_type": "code",
   "execution_count": 2,
   "metadata": {
    "collapsed": false
   },
   "outputs": [],
   "source": [
    "def select_top_n_from_dict(minoccur=18000,\n",
    "                           dictionary_file='~/web2.2-freq-sorted.txt',\n",
    "                           out_file='top_occuring_words.pickle',\n",
    "                           lowercase=True):\n",
    "    \n",
    "    words = pd.read_table(open(dictionary_file,encoding='iso-8859-2'),header=None,sep='\\t')\n",
    "    j=0\n",
    "    for i in range(0,len(words)):\n",
    "        if words[1][i]<minoccur:\n",
    "            j=i\n",
    "            break;\n",
    "    selected_common_words=list(words[0][0:j])\n",
    "    \n",
    "    \n",
    "    if lowercase:\n",
    "        for i in range(0,len(selected_common_words)):\n",
    "            selected_common_words[i]=str(selected_common_words[i]).lower()\n",
    "            if '*' in str(selected_common_words[i]):\n",
    "                selected_common_words[i]=selected_common_words[i].replace('*','')\n",
    "        set_words=list(set(selected_common_words))\n",
    "        del set_words[0]\n",
    "    #remove nan from the beginning of the list\n",
    "    word_out=set_words[1:len(set_words)] \n",
    "    \n",
    "    pickle.dump(set_words,open(out_file,\"wb\"))\n",
    "    return word_out"
   ]
  },
  {
   "cell_type": "code",
   "execution_count": 3,
   "metadata": {
    "collapsed": false
   },
   "outputs": [],
   "source": [
    "top=select_top_n_from_dict()"
   ]
  },
  {
   "cell_type": "code",
   "execution_count": 5,
   "metadata": {
    "collapsed": false,
    "scrolled": true
   },
   "outputs": [
    {
     "name": "stdout",
     "output_type": "stream",
     "text": [
      "7216\n"
     ]
    }
   ],
   "source": [
    "orig=sorted(top)\n",
    "lista=sorted(top)\n",
    "print(len(orig))\n"
   ]
  },
  {
   "cell_type": "code",
   "execution_count": 6,
   "metadata": {
    "collapsed": false
   },
   "outputs": [
    {
     "name": "stdout",
     "output_type": "stream",
     "text": [
      "['\\x08', '\\x14', '\\x15', '\\x1f', '#', '$', '%', '&', '&agrave;', '&amp;', '&copy;', '&euro;', '&frac', '&iexcl;', '&lsquo;', '&middot;', '&rsquo;', '&sbquo;', '&sup', '&trade;']\n",
      "['\\x08', '\\x14', '\\x15', '\\x1f', '#', '$', '%', '&', '&agrave;', '&amp;', '&copy;', '&euro;', '&frac', '&iexcl;', '&lsquo;', '&middot;', '&rsquo;', '&sbquo;', '&sup', '&trade;']\n"
     ]
    }
   ],
   "source": [
    "deacc_list=deaccentize_list(lista,True)"
   ]
  },
  {
   "cell_type": "code",
   "execution_count": 7,
   "metadata": {
    "collapsed": false
   },
   "outputs": [],
   "source": [
    "def findmultiples(deacc_list,orig):\n",
    "    multiples=[]\n",
    "    matched=[]\n",
    "    deacc_list=sorted(deacc_list)\n",
    "    for i in range(len(deacc_list)):\n",
    "        for j in range(i+1,i+3):\n",
    "            if (j<len(deacc_list)) and deacc_list[i]==deacc_list[j] and (not deacc_list[i] in matched) and (not deacc_list[j] in matched) and orig[i]!=orig[j] and (orig[i]!=deacc_list[i] or orig[j]!=deacc_list[i]):\n",
    "                multiples.append(deacc_list[i])\n",
    "                matched.append(deacc_list[i])\n",
    "                #print(orig[i],\" = \", orig[j])\n",
    "                #matched.append(j)\n",
    "                break\n",
    "    return multiples\n",
    "\n",
    "def print_multiples(multiples_list,original_list):\n",
    "    for item in multiples_list:\n",
    "        temp=item+'\\t'\n",
    "        for titem in original_list:\n",
    "            if deaccentize(titem)==item:\n",
    "                temp+=(titem+'\\t')\n",
    "        print(temp)\n",
    "    return len(multiples_list)"
   ]
  },
  {
   "cell_type": "code",
   "execution_count": 8,
   "metadata": {
    "collapsed": false,
    "scrolled": true
   },
   "outputs": [
    {
     "name": "stdout",
     "output_type": "stream",
     "text": [
      "a\ta\tá\t\n",
      "adtak\tadtak\tadták\t\n",
      "ahova\tahova\tahová\t\n",
      "akar\takar\takár\t\n",
      "akartak\takartak\takarták\t\n",
      "all\tall\táll\t\n",
      "also\talso\talsó\t\n",
      "am\tam\tám\t\n",
      "amig\tamig\tamíg\t\n",
      "arany\tarany\tarány\t\n",
      "arat\tárat\tárát\t\n",
      "art\tart\tárt\t\n",
      "at\tat\tát\t\n",
      "azert\tazert\tazért\t\n",
      "aztan\taztan\taztán\t\n",
      "bar\tbar\tbár\t\n",
      "bor\tbor\tbőr\t\n",
      "cimet\tcímet\tcímét\t\n",
      "david\tdavid\tdávid\t\n",
      "dijat\tdíjat\tdíját\t\n",
      "e\te\té\t\n",
      "egesz\tegesz\tegész\t\n",
      "el\tel\tél\t\n",
      "eleg\teleg\telég\t\n",
      "eletet\téletet\téletét\t\n",
      "elo\telő\télő\t\n",
      "elott\telott\telőtt\t\n",
      "elso\telso\telső\t\n",
      "elve\telve\télve\t\n",
      "en\ten\tén\t\n",
      "er\ter\tér\t\n",
      "ero\terő\térő\t\n",
      "ertek\tértek\térték\t\n",
      "erteket\tértéket\tértékét\t\n",
      "es\tes\tés\t\n",
      "even\teven\téven\t\n",
      "ezert\tezert\tezért\t\n",
      "faj\tfaj\tfáj\t\n",
      "fel\tfel\tfél\t\n",
      "fele\tfele\tfelé\tféle\t\n",
      "felek\tfelek\tfélek\t\n",
      "figyelmet\tfigyelmet\tfigyelmét\t\n",
      "format\tformat\tformát\t\n",
      "forum\tforum\tfórum\t\n",
      "hat\that\thát\t\n",
      "haza\thaza\tháza\t\n",
      "helyen\thelyen\thelyén\t\n",
      "helyet\thelyet\thelyét\t\n",
      "helyzetet\thelyzetet\thelyzetét\t\n",
      "het\thet\thét\t\n",
      "hir\thir\thír\t\n",
      "hova\thova\thová\t\n",
      "hoztak\thoztak\thozták\t\n",
      "hozza\thozza\thozzá\t\n",
      "human\thuman\thumán\t\n",
      "i\ti\tí\t\n",
      "igy\tigy\tígy\t\n",
      "inkabb\tinkabb\tinkább\t\n",
      "irok\tírok\tírók\t\n",
      "irtak\tírtak\tírták\t\n",
      "irtam\tirtam\tírtam\t\n",
      "jo\tjo\tjó\t\n",
      "jol\tjol\tjól\t\n",
      "kar\tkar\tkár\t\n",
      "kerek\tkerek\tkérek\t\n",
      "kert\tkert\tkért\t\n",
      "ket\tket\tkét\t\n",
      "kezdtek\tkezdtek\tkezdték\t\n",
      "kor\tkor\tkör\t\n",
      "kore\tköre\tköré\t\n",
      "kornyeken\tkörnyéken\tkörnyékén\t\n",
      "koru\tkorú\tkörű\t\n",
      "koze\tköze\tközé\t\n",
      "lehetoseget\tlehetőséget\tlehetőségét\t\n",
      "let\tlet\tlét\t\n",
      "level\tlevel\tlevél\t\n",
      "levo\tlevő\tlévő\t\n",
      "ma\tma\tmá\t\n",
      "mar\tmar\tmár\t\n",
      "mas\tmas\tmás\t\n",
      "masik\tmasik\tmásik\t\n",
      "media\tmedia\tmédia\t\n",
      "meg\tmeg\tmég\t\n",
      "mely\tmely\tmély\t\n",
      "melyen\tmelyen\tmélyen\t\n",
      "mert\tmert\tmért\t\n",
      "miert\tmiert\tmiért\t\n",
      "mindig\tmindig\tmindíg\t\n",
      "nemi\tnemi\tnémi\t\n",
      "neven\tnevén\tnéven\t\n",
      "nevet\tnevet\tnevét\t\n",
      "no\tno\tnő\t\n",
      "not\tnot\tnőt\t\n",
      "o\to\tó\tö\tő\t\n",
      "ok\tok\tők\t\n",
      "oket\toket\tőket\t\n",
      "on\ton\tön\t\n",
      "osszeget\tösszeget\tösszegét\t\n",
      "ot\töt\tőt\t\n",
      "par\tpar\tpár\t\n",
      "part\tpart\tpárt\t\n",
      "peter\tpeter\tpéter\t\n",
      "portal\tportal\tportál\t\n",
      "ra\tra\trá\t\n",
      "robert\trobert\tróbert\t\n",
      "segitseget\tsegítséget\tsegítségét\t\n",
      "sor\tsor\tsör\t\n",
      "szerepet\tszerepet\tszerepét\t\n",
      "szeretne\tszeretne\tszeretné\t\n",
      "szeretnek\tszeretnek\tszeretnék\t\n",
      "szint\tszint\tszínt\t\n",
      "szinten\tszinten\tszintén\t\n",
      "szivesen\tszivesen\tszívesen\t\n",
      "szo\tszo\tszó\t\n",
      "szoba\tszoba\tszóba\t\n",
      "szoktak\tszoktak\tszokták\t\n",
      "talaltak\ttaláltak\ttalálták\t\n",
      "talan\ttalan\ttalán\t\n",
      "tartottak\ttartottak\ttartották\t\n",
      "teli\tteli\ttéli\t\n",
      "tenyleg\ttenyleg\ttényleg\t\n",
      "teren\tterén\ttéren\t\n",
      "teruleten\tterületen\tterületén\t\n",
      "testet\ttestet\ttestét\t\n",
      "tettek\ttettek\ttették\t\n",
      "teve\tteve\ttéve\t\n",
      "tevekenyseget\ttevékenységet\ttevékenységét\t\n",
      "to\tto\ttó\t\n",
      "tobb\ttobb\ttöbb\t\n",
      "tortenetet\ttörténetet\ttörténetét\t\n",
      "tudna\ttudna\ttudná\t\n",
      "tudtak\ttudtak\ttudták\t\n",
      "tul\ttul\ttúl\t\n",
      "ugy\tugy\túgy\tügy\t\n",
      "uj\tuj\túj\t\n",
      "ul\tul\tül\t\n",
      "ulesen\tülésen\tülésén\t\n",
      "utan\tutan\tután\t\n",
      "vagy\tvagy\tvágy\t\n",
      "valo\tvaló\tváló\t\n",
      "vedelmet\tvédelmet\tvédelmét\t\n",
      "veget\tvéget\tvégét\t\n",
      "vettek\tvettek\tvették\t\n",
      "video\tvideo\tvideó\t\n"
     ]
    },
    {
     "data": {
      "text/plain": [
       "144"
      ]
     },
     "execution_count": 8,
     "metadata": {},
     "output_type": "execute_result"
    }
   ],
   "source": [
    "multiple_occurs=findmultiples(deacc_list,orig)\n",
    "\n",
    "print_multiples(multiple_occurs,orig)"
   ]
  },
  {
   "cell_type": "code",
   "execution_count": 9,
   "metadata": {
    "collapsed": false
   },
   "outputs": [
    {
     "name": "stdout",
     "output_type": "stream",
     "text": [
      "144\n"
     ]
    }
   ],
   "source": [
    "print(len(multiple_occurs))\n",
    "pickle.dump(multiple_occurs,open('multiple_accentized_form_words.pickle',\"wb\"))"
   ]
  }
 ],
 "metadata": {
  "kernelspec": {
   "display_name": "Python 3",
   "language": "python",
   "name": "python3"
  },
  "language_info": {
   "codemirror_mode": {
    "name": "ipython",
    "version": 3
   },
   "file_extension": ".py",
   "mimetype": "text/x-python",
   "name": "python",
   "nbconvert_exporter": "python",
   "pygments_lexer": "ipython3",
   "version": "3.4.2"
  }
 },
 "nbformat": 4,
 "nbformat_minor": 0
}
