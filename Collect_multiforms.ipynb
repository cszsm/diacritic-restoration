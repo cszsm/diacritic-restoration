{
 "cells": [
  {
   "cell_type": "markdown",
   "metadata": {},
   "source": [
    "# Collect words from dict, which have multiple accentizable forms"
   ]
  },
  {
   "cell_type": "code",
   "execution_count": 1,
   "metadata": {
    "collapsed": false
   },
   "outputs": [],
   "source": [
    "import pickle\n",
    "from deaccentize import deaccentize"
   ]
  },
  {
   "cell_type": "code",
   "execution_count": 16,
   "metadata": {
    "collapsed": true
   },
   "outputs": [],
   "source": [
    "def collect_multiforms_from_array_pickle(filename,outname):\n",
    "    with open(filename, 'rb') as pickle_file:\n",
    "        list_in=pickle.load(pickle_file)\n",
    "\n",
    "    print(\"files opened\")\n",
    "    lista=[]\n",
    "    orig=[]\n",
    "    \n",
    "    for item in list_in:\n",
    "        temp=item.lower()\n",
    "\n",
    "        orig.append(temp)\n",
    "        lista.append(temp)\n",
    "\n",
    "\n",
    "    orig=list(set(orig))\n",
    "    lista=list(set(lista))\n",
    "    orig=sorted(orig)\n",
    "    lista=sorted(lista)\n",
    "    print(\"length of the dictionary: \",len(orig))\n",
    "    for i in range(len(lista)):\n",
    "        lista[i]=deaccentize(lista[i])\n",
    "    print(\"deaccentized\")\n",
    "    \n",
    "    multiples=[]\n",
    "    matched=[]\n",
    "    proc=0\n",
    "    deacc_list=lista\n",
    "    for i in range(len(deacc_list)):\n",
    "        for j in range(i+1,i+300):\n",
    "            if (j<len(deacc_list)) and deacc_list[i]==deacc_list[j] and (not i in matched) and (not j in matched) and orig[i]!=orig[j] and (orig[i]!=deacc_list[i] or orig[j]!=deacc_list[i]):\n",
    "                multiples.append(deacc_list[i])\n",
    "                matched.append(i)\n",
    "                #print(orig[i],\" = \", orig[j])\n",
    "                matched.append(j)\n",
    "\n",
    "\n",
    "\n",
    "\n",
    "    print(len(multiples))\n",
    "    print(\"demo: \",multiples[3000:3040])\n",
    "    out_words_file=open(outname,'wb')\n",
    "    pickle.dump(multiples,out_words_file)"
   ]
  },
  {
   "cell_type": "markdown",
   "metadata": {
    "collapsed": false
   },
   "source": [
    "# Call the function"
   ]
  },
  {
   "cell_type": "code",
   "execution_count": 17,
   "metadata": {
    "collapsed": false
   },
   "outputs": [
    {
     "name": "stdout",
     "output_type": "stream",
     "text": [
      "files opened\n",
      "length of the dictionary:  3046499\n",
      "deaccentized\n",
      "49506\n",
      "demo:  ['beszivtak', 'beszologatok', 'beszolok', 'beszolitottak', 'beszurjak', 'beszurtak', 'beszuntetheti', 'beszunteti', 'beszuntetik', 'beszuntetnek', 'beszuntetni', 'beszuntette', 'beszuntettek', 'beszunteto', 'beszottek', 'beszukitenek', 'besaroztak', 'besoztak', 'besoporne', 'besopornek', 'besoportek', 'besotetednek', 'besugod', 'besugok', 'besugtak', 'besullyesztettek', 'besurusodik', 'betagositottak', 'betakargattak', 'betakarjak', 'betakarna', 'betakarok', 'betakartak', 'betakaritok', 'betakaritottak', 'betalalt', 'betanitasat', 'betanito', 'betanitott', 'betanultak']\n"
     ]
    }
   ],
   "source": [
    "collect_multiforms_from_array_pickle('~/extracted_correct_words_from_MNSZ.pickle','~/multiples_new_from_MNSZ.pickle')"
   ]
  }
 ],
 "metadata": {
  "kernelspec": {
   "display_name": "Python 3",
   "language": "python",
   "name": "python3"
  },
  "language_info": {
   "codemirror_mode": {
    "name": "ipython",
    "version": 3
   },
   "file_extension": ".py",
   "mimetype": "text/x-python",
   "name": "python",
   "nbconvert_exporter": "python",
   "pygments_lexer": "ipython3",
   "version": "3.4.2"
  }
 },
 "nbformat": 4,
 "nbformat_minor": 1
}
