{
 "cells": [
  {
   "cell_type": "code",
   "execution_count": 1,
   "metadata": {
    "collapsed": false
   },
   "outputs": [],
   "source": [
    "from collections import deque\n",
    "from sklearn.feature_extraction import DictVectorizer\n",
    "import tensorflow as tf\n",
    "import numpy as np\n",
    "import xml.etree.ElementTree as et\n",
    "\n",
    "vowel_table = {\"a\" : [\"á\"], \"e\" : [\"é\"], \"i\" : [\"í\"], \"o\" : [\"ó\", \"ö\", \"ő\"], \"u\" : [\"ú\", \"ü\", \"ű\"]}\n",
    "vectorizer = DictVectorizer()"
   ]
  },
  {
   "cell_type": "code",
   "execution_count": 2,
   "metadata": {
    "collapsed": true
   },
   "outputs": [],
   "source": [
    "def ispunct(c):\n",
    "    punctuations = \"!\\\"#$%&'()*+,-./:;<=>?@[\\\\]^_`{|}~\"\n",
    "    for char in punctuations:\n",
    "        if (c == char):\n",
    "            return True\n",
    "    return False\n",
    "\n",
    "\n",
    "def isalpha(c):\n",
    "    alphabet = \"abcdefghijklmnopqrstuvwxyz\"\n",
    "    for char in alphabet:\n",
    "        if (c == char):\n",
    "            return True\n",
    "    return False\n",
    "\n",
    "# reduces the number of different characters to 30\n",
    "def normalize_character(c):\n",
    "    if (c.isspace()):\n",
    "        return ' '\n",
    "    if (c.isdigit()):\n",
    "        return '0'\n",
    "    if (ispunct(c)):\n",
    "        return '_'\n",
    "    if (isalpha(c)):\n",
    "        return c\n",
    "    return '*'\n",
    "\n",
    "\n",
    "def normalize_text(text):\n",
    "    normalized = \"\"\n",
    "    for c in text:\n",
    "        normalized += normalize_character(c)\n",
    "    return normalized"
   ]
  },
  {
   "cell_type": "code",
   "execution_count": 3,
   "metadata": {
    "collapsed": true
   },
   "outputs": [],
   "source": [
    "def deaccentize(text):\n",
    "    text = text.replace(\"á\", \"a\")\n",
    "    text = text.replace(\"é\", \"e\")\n",
    "    text = text.replace(\"í\", \"i\")\n",
    "    text = text.replace(\"ó\", \"o\")\n",
    "    text = text.replace(\"ö\", \"o\")\n",
    "    text = text.replace(\"ő\", \"o\")\n",
    "    text = text.replace(\"ú\", \"u\")\n",
    "    text = text.replace(\"ü\", \"u\")\n",
    "    text = text.replace(\"ű\", \"u\")\n",
    "\n",
    "    return text\n",
    "\n",
    "def create_row(window, window_size):\n",
    "    row = {}\n",
    "\n",
    "    for i in range(-window_size, window_size + 1):\n",
    "        row[i] = normalize_character(deaccentize(window.popleft()))\n",
    "\n",
    "    del row[0]\n",
    "\n",
    "    return row\n",
    "\n",
    "# returns\n",
    "# x_e: list of windows with the given window_size\n",
    "# y_e: one-hot encoded values\n",
    "def prepare_text(text, window_size, vowel):\n",
    "    x_e = []\n",
    "    y_e = []\n",
    "    lower_text = text.lower()\n",
    "\n",
    "    window = deque((), window_size * 2 + 1)\n",
    "    for i in range(window.maxlen):\n",
    "        window.append(\"_\")\n",
    "        lower_text += \"_\"\n",
    "\n",
    "    for character in lower_text:\n",
    "        window.append(character)\n",
    "        if window[window_size] == vowel:\n",
    "            x_e.append(create_row(window.copy(), window_size))\n",
    "            y_e.append([1, 0])\n",
    "        if window[window_size] in vowel_table[vowel]:\n",
    "            x_e.append(create_row(window.copy(), window_size))\n",
    "            y_e.append([0, 1])\n",
    "\n",
    "    return x_e, y_e\n",
    "\n",
    "def prepare_words(words, window_size, vowel):\n",
    "    x_e = []\n",
    "    y_e = []\n",
    "    \n",
    "    for word in words:\n",
    "        if vowel not in word:\n",
    "            continue\n",
    "            \n",
    "        x, y = prepare_text(word, window_size, vowel)\n",
    "\n",
    "        if x_e == []:\n",
    "            x_e = vectorizer.transform(x).toarray()\n",
    "        else:\n",
    "            tmp = vectorizer.transform(x)\n",
    "            for tx in tmp:\n",
    "                #x_e += tx.toarray()\n",
    "                x_e = np.concatenate((x_e, tx.toarray()))\n",
    "        y_e += y\n",
    "        \n",
    "    return x_e, y_e"
   ]
  },
  {
   "cell_type": "code",
   "execution_count": 4,
   "metadata": {
    "collapsed": true
   },
   "outputs": [],
   "source": [
    "# generates template windows for the alphabet\n",
    "def generate_windows(window_size):\n",
    "    windows = []\n",
    "    alphabet = \"abcdefghijklmnopqrstuvwxyz 0_*\"\n",
    "    alphabet_size = len(alphabet)\n",
    "\n",
    "    for i in range(alphabet_size):\n",
    "        new_window = {}\n",
    "\n",
    "        end_of_slice = i + window_size * 2\n",
    "        if end_of_slice <= alphabet_size:\n",
    "            alphabet_slice = alphabet[i:end_of_slice]\n",
    "        else:\n",
    "            alphabet_slice = alphabet[i:alphabet_size]\n",
    "            alphabet_slice += alphabet[0:end_of_slice - alphabet_size]\n",
    "\n",
    "        for j in range(window_size):\n",
    "            new_window[-1 * (j + 1)] = alphabet_slice[window_size - 1 - j]\n",
    "            new_window[j + 1] = alphabet_slice[window_size + j]\n",
    "\n",
    "        windows.append(new_window)\n",
    "\n",
    "    return windows"
   ]
  },
  {
   "cell_type": "code",
   "execution_count": 5,
   "metadata": {
    "collapsed": false
   },
   "outputs": [],
   "source": [
    "def read_corpus(count):\n",
    "    corpus = open(\"corpus\")\n",
    "    words = []\n",
    "    \n",
    "    for i in range(4):\n",
    "        next(corpus)\n",
    "        \n",
    "    for line in corpus:\n",
    "        splits = line.split()\n",
    "        if splits != []:\n",
    "            words.append(splits[0])\n",
    "            if count < 0:\n",
    "                break\n",
    "            count -= 1\n",
    "        \n",
    "    return words"
   ]
  },
  {
   "cell_type": "code",
   "execution_count": 6,
   "metadata": {
    "collapsed": false
   },
   "outputs": [
    {
     "data": {
      "text/plain": [
       "DictVectorizer(dtype=<class 'numpy.float64'>, separator='=', sort=True,\n",
       "        sparse=True)"
      ]
     },
     "execution_count": 6,
     "metadata": {},
     "output_type": "execute_result"
    }
   ],
   "source": [
    "vectorizer.fit(generate_windows(4))"
   ]
  },
  {
   "cell_type": "code",
   "execution_count": 9,
   "metadata": {
    "collapsed": false
   },
   "outputs": [
    {
     "name": "stderr",
     "output_type": "stream",
     "text": [
      "/home/zscseh93/anaconda3/envs/tensorflow/lib/python3.5/site-packages/ipykernel/__main__.py:58: DeprecationWarning: elementwise == comparison failed; this will raise an error in the future.\n"
     ]
    }
   ],
   "source": [
    "count = 20000\n",
    "words = read_corpus(count)\n",
    "\n",
    "train_x, train_y = prepare_words(words[:15000], 4, \"e\")\n",
    "np.savez(\"train_e\", x = train_x, y = train_y)\n",
    "\n",
    "test_x, test_y = prepare_words(words[15000:], 4, \"e\")\n",
    "np.savez(\"test_e\", x = test_x, y = test_y)"
   ]
  },
  {
   "cell_type": "code",
   "execution_count": 10,
   "metadata": {
    "collapsed": true
   },
   "outputs": [],
   "source": [
    "input_size = 240\n",
    "output_size = 2\n",
    "\n",
    "n_input = tf.placeholder(tf.float32, [None, input_size])\n",
    "n_output = tf.placeholder(tf.float32, [None, output_size])\n",
    "\n",
    "hidden_neurons = 10\n",
    "\n",
    "b_hidden = tf.Variable(tf.random_normal([hidden_neurons]))\n",
    "W_hidden = tf.Variable(tf.random_normal([input_size, hidden_neurons]))\n",
    "hidden = tf.sigmoid(tf.matmul(n_input, W_hidden) + b_hidden)\n",
    "\n",
    "W_output = tf.Variable(tf.random_normal([hidden_neurons, output_size]))\n",
    "# output = tf.sigmoid(tf.matmul(hidden, W_output))\n",
    "output = tf.nn.softmax(tf.matmul(hidden, W_output))\n",
    "\n",
    "# cost = tf.reduce_mean(tf.square(n_output - output))\n",
    "cost = tf.reduce_mean(-tf.reduce_sum(n_output * tf.log(output), reduction_indices=[1]))\n",
    "\n",
    "# optimizer = tf.train.GradientDescentOptimizer(0.5)\n",
    "optimizer = tf.train.AdamOptimizer()\n",
    "train = optimizer.minimize(cost)\n",
    "\n",
    "init = tf.initialize_all_variables()"
   ]
  },
  {
   "cell_type": "code",
   "execution_count": 24,
   "metadata": {
    "collapsed": false
   },
   "outputs": [],
   "source": [
    "import random\n",
    "\n",
    "def next_batch(data_x, data_y, count):\n",
    "    batch_x, batch_y = [], []\n",
    "    indexes = random.sample(range(len(data_x)), count)\n",
    "    \n",
    "    for i in indexes:\n",
    "        batch_x.append(data_x[i])\n",
    "        batch_y.append(data_y[i])\n",
    "        \n",
    "    return batch_x, batch_y"
   ]
  },
  {
   "cell_type": "code",
   "execution_count": 35,
   "metadata": {
    "collapsed": false
   },
   "outputs": [
    {
     "name": "stdout",
     "output_type": "stream",
     "text": [
      "training started\n",
      "\n",
      "\n",
      "step:   0\n",
      "loss: 4.633112907409668\n",
      "|\n",
      "\n",
      "step: 100\n",
      "loss: 3.181631088256836\n",
      "|||||||||||||||||\n",
      "step: 1000\n",
      "loss: 0.4297471344470978\n",
      "|||||||||||||||||||\n",
      "step: 2000\n",
      "loss: 0.32219094038009644\n",
      "\n",
      "elapsed time: 72.60360397499971\n"
     ]
    }
   ],
   "source": [
    "import random\n",
    "import time\n",
    "\n",
    "sess = tf.Session()\n",
    "sess.run(init)\n",
    "print(\"training started\")\n",
    "\n",
    "data_train = np.load(\"train_e.npz\")\n",
    "data_test = np.load(\"test_e.npz\")\n",
    "\n",
    "start_time = time.perf_counter()\n",
    "for i in range(2001):\n",
    "    batch_x, batch_y = next_batch(data_train[\"x\"], data_train[\"y\"], 100)\n",
    "    cvalues = sess.run([train, cost, W_hidden, b_hidden, W_output], feed_dict={n_input: batch_x, n_output: batch_y})\n",
    "#     cvalues = sess.run([train, cost, W_hidden, b_hidden, W_output], feed_dict={n_input: data_train[\"x\"], n_output: data_train[\"y\"]})\n",
    "\n",
    "\n",
    "    if i < 101 and i % 100 == 0:\n",
    "        print(\"\")\n",
    "        print(\"\")\n",
    "        print(\"step: {:>3}\".format(i))\n",
    "        print(\"loss: {}\".format(cvalues[1]))\n",
    "    elif i % 1000 == 0:\n",
    "        print(\"\")\n",
    "        print(\"step: {:>3}\".format(i))\n",
    "        print(\"loss: {}\".format(cvalues[1]))\n",
    "    elif i % 50 == 0:\n",
    "        print('|', end=\"\")\n",
    "\n",
    "print(\"\")\n",
    "result = sess.run(output, feed_dict={n_input: data_test[\"x\"]})\n",
    "print(\"elapsed time: \" + str(time.perf_counter() - start_time))"
   ]
  },
  {
   "cell_type": "code",
   "execution_count": 36,
   "metadata": {
    "collapsed": false
   },
   "outputs": [
    {
     "name": "stdout",
     "output_type": "stream",
     "text": [
      "accuracy: 0.8412698412698413\n"
     ]
    }
   ],
   "source": [
    "def decide(y):\n",
    "    if y[0] > y[1]:\n",
    "        return np.array([1, 0])\n",
    "    else:\n",
    "        return np.array([0, 1])\n",
    "    \n",
    "success = 0\n",
    "\n",
    "for i in range(len(result)):\n",
    "    if np.array_equal(decide(result[i]), data_test[\"y\"][i]):\n",
    "        success += 1\n",
    "        \n",
    "print(\"accuracy: \" + str(success / len(result)))"
   ]
  },
  {
   "cell_type": "code",
   "execution_count": null,
   "metadata": {
    "collapsed": true
   },
   "outputs": [],
   "source": []
  }
 ],
 "metadata": {
  "anaconda-cloud": {},
  "kernelspec": {
   "display_name": "Python [conda env:tensorflow]",
   "language": "python",
   "name": "conda-env-tensorflow-py"
  },
  "language_info": {
   "codemirror_mode": {
    "name": "ipython",
    "version": 3
   },
   "file_extension": ".py",
   "mimetype": "text/x-python",
   "name": "python",
   "nbconvert_exporter": "python",
   "pygments_lexer": "ipython3",
   "version": "3.5.2"
  }
 },
 "nbformat": 4,
 "nbformat_minor": 0
}
