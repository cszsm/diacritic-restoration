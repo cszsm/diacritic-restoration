{
 "cells": [
  {
   "cell_type": "code",
   "execution_count": null,
   "metadata": {
    "collapsed": false
   },
   "outputs": [],
   "source": [
    "from collections import deque\n",
    "from sklearn.feature_extraction import DictVectorizer"
   ]
  },
  {
   "cell_type": "code",
   "execution_count": null,
   "metadata": {
    "collapsed": true
   },
   "outputs": [],
   "source": [
    "vowel_table = {\"a\" : [\"á\"], \"e\" : [\"é\"], \"i\" : [\"í\"], \"o\" : [\"ó\", \"ö\", \"ő\"], \"u\" : [\"ú\", \"ü\", \"ű\"]}\n",
    "vectorizer = DictVectorizer()"
   ]
  },
  {
   "cell_type": "code",
   "execution_count": null,
   "metadata": {
    "collapsed": true
   },
   "outputs": [],
   "source": [
    "def deaccentize(text):\n",
    "    deaccentized_text = \"\"\n",
    "\n",
    "    for c in text:\n",
    "        if c in vowel_table[\"a\"]:\n",
    "            deaccentized_text += \"a\"\n",
    "        elif c in vowel_table[\"e\"]:\n",
    "            deaccentized_text += \"e\"\n",
    "        elif c in vowel_table[\"i\"]:\n",
    "            deaccentized_text += \"i\"\n",
    "        elif c in vowel_table[\"o\"]:\n",
    "            deaccentized_text += \"o\"\n",
    "        elif c in vowel_table[\"u\"]:\n",
    "            deaccentized_text += \"u\"\n",
    "        else:\n",
    "            deaccentized_text += c\n",
    "\n",
    "    return deaccentized_text"
   ]
  },
  {
   "cell_type": "code",
   "execution_count": null,
   "metadata": {
    "collapsed": true
   },
   "outputs": [],
   "source": [
    "def create_row(window, window_size):\n",
    "    row = {}\n",
    "    \n",
    "    for i in range(-window_size, window_size + 1):\n",
    "        row[i] = window.popleft()\n",
    "        \n",
    "    del row[0]\n",
    "    \n",
    "    return row"
   ]
  },
  {
   "cell_type": "code",
   "execution_count": null,
   "metadata": {
    "collapsed": true
   },
   "outputs": [],
   "source": [
    "def prepare_text(text, window_size, vowel):\n",
    "    x_e = []\n",
    "    y_e = []\n",
    "\n",
    "    window = deque((), window_size * 2 + 1)\n",
    "    for i in range(window.maxlen):\n",
    "        window.append(\"_\")\n",
    "\n",
    "    for character in text:\n",
    "        window.append(character)\n",
    "        if window[window_size] == vowel:\n",
    "            x_e.append(create_row(window.copy(), window_size))\n",
    "            y_e.append(0)\n",
    "        if window[window_size] in vowel_table[vowel]:\n",
    "            x_e.append(create_row(window.copy(), window_size))\n",
    "            y_e.append(1)\n",
    "\n",
    "    print(x_e)\n",
    "    print(y_e)\n",
    "    return x_e"
   ]
  },
  {
   "cell_type": "code",
   "execution_count": null,
   "metadata": {
    "collapsed": true
   },
   "outputs": [],
   "source": [
    "demo = \"Tévedsz. Eddig epedtek érte, hogy legyen, s nem volt, most majd a lelkük üdvösségét kínálnák, \" \\\n",
    "       \"ha elmaradhatna, de nem tudjuk megakadályozni.\""
   ]
  },
  {
   "cell_type": "code",
   "execution_count": null,
   "metadata": {
    "collapsed": false
   },
   "outputs": [],
   "source": [
    "X = prepare_text(demo, 2, \"e\")"
   ]
  },
  {
   "cell_type": "code",
   "execution_count": null,
   "metadata": {
    "collapsed": true
   },
   "outputs": [],
   "source": [
    "vectorized = vectorizer.fit_transform(X).toarray()"
   ]
  },
  {
   "cell_type": "code",
   "execution_count": null,
   "metadata": {
    "collapsed": false
   },
   "outputs": [],
   "source": [
    "print(vectorized)"
   ]
  },
  {
   "cell_type": "code",
   "execution_count": null,
   "metadata": {
    "collapsed": true
   },
   "outputs": [],
   "source": []
  }
 ],
 "metadata": {
  "anaconda-cloud": {},
  "kernelspec": {
   "display_name": "Python [Root]",
   "language": "python",
   "name": "Python [Root]"
  },
  "language_info": {
   "codemirror_mode": {
    "name": "ipython",
    "version": 3
   },
   "file_extension": ".py",
   "mimetype": "text/x-python",
   "name": "python",
   "nbconvert_exporter": "python",
   "pygments_lexer": "ipython3",
   "version": "3.5.2"
  }
 },
 "nbformat": 4,
 "nbformat_minor": 0
}
