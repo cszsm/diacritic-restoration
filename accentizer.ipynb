{
 "cells": [
  {
   "cell_type": "code",
   "execution_count": 1,
   "metadata": {
    "collapsed": false
   },
   "outputs": [],
   "source": [
    "from collections import deque\n",
    "from sklearn.feature_extraction import DictVectorizer\n",
    "import tensorflow as tf\n",
    "import numpy as np\n",
    "import xml.etree.ElementTree as et\n",
    "\n",
    "vowel_table = {\"a\" : [\"á\"], \"e\" : [\"é\"], \"i\" : [\"í\"], \"o\" : [\"ó\", \"ö\", \"ő\"], \"u\" : [\"ú\", \"ü\", \"ű\"]}\n",
    "vectorizer = DictVectorizer()"
   ]
  },
  {
   "cell_type": "code",
   "execution_count": 2,
   "metadata": {
    "collapsed": true
   },
   "outputs": [],
   "source": [
    "def ispunct(c):\n",
    "    punctuations = \"!\\\"#$%&'()*+,-./:;<=>?@[\\\\]^_`{|}~\"\n",
    "    for char in punctuations:\n",
    "        if (c == char):\n",
    "            return True\n",
    "    return False\n",
    "\n",
    "\n",
    "def isalpha(c):\n",
    "    alphabet = \"abcdefghijklmnopqrstuvwxyz\"\n",
    "    for char in alphabet:\n",
    "        if (c == char):\n",
    "            return True\n",
    "    return False\n",
    "\n",
    "# reduces the number of different characters to 30\n",
    "def normalize_character(c):\n",
    "    if (c.isspace()):\n",
    "        return ' '\n",
    "    if (c.isdigit()):\n",
    "        return '0'\n",
    "    if (ispunct(c)):\n",
    "        return '_'\n",
    "    if (isalpha(c)):\n",
    "        return c\n",
    "    return '*'\n",
    "\n",
    "\n",
    "def normalize_text(text):\n",
    "    normalized = \"\"\n",
    "    for c in text:\n",
    "        normalized += normalize_character(c)\n",
    "    return normalized"
   ]
  },
  {
   "cell_type": "code",
   "execution_count": 3,
   "metadata": {
    "collapsed": false
   },
   "outputs": [],
   "source": [
    "def deaccentize(text):\n",
    "    text = text.replace(\"á\", \"a\")\n",
    "    text = text.replace(\"é\", \"e\")\n",
    "    text = text.replace(\"í\", \"i\")\n",
    "    text = text.replace(\"ó\", \"o\")\n",
    "    text = text.replace(\"ö\", \"o\")\n",
    "    text = text.replace(\"ő\", \"o\")\n",
    "    text = text.replace(\"ú\", \"u\")\n",
    "    text = text.replace(\"ü\", \"u\")\n",
    "    text = text.replace(\"ű\", \"u\")\n",
    "\n",
    "    return text\n",
    "\n",
    "def create_row(window, window_size):\n",
    "    row = {}\n",
    "\n",
    "    for i in range(-window_size, window_size + 1):\n",
    "        row[i] = normalize_character(deaccentize(window.popleft()))\n",
    "\n",
    "    del row[0]\n",
    "\n",
    "    return row\n",
    "\n",
    "def get_y(vowel):\n",
    "    if vowel in \"aei\":\n",
    "        return [1, 0]\n",
    "    if vowel in \"áéí\":\n",
    "        return [0, 1]\n",
    "    if vowel in \"ou\":\n",
    "        return [1, 0, 0, 0]\n",
    "    if vowel in \"óú\":\n",
    "        return [0, 1, 0, 0]\n",
    "    if vowel in \"öü\":\n",
    "        return [0, 0, 1, 0]\n",
    "    if vowel in \"őű\":\n",
    "        return [0, 0, 0, 1]\n",
    "\n",
    "# returns\n",
    "# x_e: list of windows with the given window_size\n",
    "# y_e: one-hot encoded values\n",
    "def prepare_text(text, window_size, vowel):\n",
    "    x_e = []\n",
    "    y_e = []\n",
    "    lower_text = text.lower()\n",
    "\n",
    "    window = deque((), window_size * 2 + 1)\n",
    "    for i in range(window.maxlen):\n",
    "        window.append(\"_\")\n",
    "        lower_text += \"_\"\n",
    "\n",
    "    for character in lower_text:\n",
    "        window.append(character)\n",
    "        \n",
    "        if (window[window_size] == vowel) or (window[window_size] in vowel_table[vowel]):\n",
    "            x_e.append(create_row(window.copy(), window_size))\n",
    "            y_e.append(get_y(window[window_size]))\n",
    "\n",
    "    return x_e, y_e\n",
    "\n",
    "def prepare_words(words, window_size, vowel):\n",
    "    print(\"\")\n",
    "    x_e = []\n",
    "    y_e = []\n",
    "    \n",
    "    count = 0\n",
    "    \n",
    "    for word in words:\n",
    "        skip = True\n",
    "        if vowel in word:\n",
    "            skip = False\n",
    "        for c in vowel_table[vowel]:\n",
    "            if c in word:\n",
    "                skip = False\n",
    "        if skip:\n",
    "            continue\n",
    "            \n",
    "        x, y = prepare_text(word, window_size, vowel)\n",
    "\n",
    "        if x_e == []:\n",
    "            x_e = vectorizer.transform(x).toarray()\n",
    "        else:\n",
    "            tmp = vectorizer.transform(x)\n",
    "            for tx in tmp:\n",
    "                #x_e += tx.toarray()\n",
    "                x_e = np.concatenate((x_e, tx.toarray()))\n",
    "        y_e += y\n",
    "        count += 1\n",
    "        if count % 500 == 0:\n",
    "            print(\"|\", end=\"\")\n",
    "        \n",
    "    return x_e, y_e"
   ]
  },
  {
   "cell_type": "code",
   "execution_count": 4,
   "metadata": {
    "collapsed": true
   },
   "outputs": [],
   "source": [
    "# generates template windows for the alphabet\n",
    "def generate_windows(window_size):\n",
    "    windows = []\n",
    "    alphabet = \"abcdefghijklmnopqrstuvwxyz 0_*\"\n",
    "    alphabet_size = len(alphabet)\n",
    "\n",
    "    for i in range(alphabet_size):\n",
    "        new_window = {}\n",
    "\n",
    "        end_of_slice = i + window_size * 2\n",
    "        if end_of_slice <= alphabet_size:\n",
    "            alphabet_slice = alphabet[i:end_of_slice]\n",
    "        else:\n",
    "            alphabet_slice = alphabet[i:alphabet_size]\n",
    "            alphabet_slice += alphabet[0:end_of_slice - alphabet_size]\n",
    "\n",
    "        for j in range(window_size):\n",
    "            new_window[-1 * (j + 1)] = alphabet_slice[window_size - 1 - j]\n",
    "            new_window[j + 1] = alphabet_slice[window_size + j]\n",
    "\n",
    "        windows.append(new_window)\n",
    "\n",
    "    return windows"
   ]
  },
  {
   "cell_type": "code",
   "execution_count": 5,
   "metadata": {
    "collapsed": false
   },
   "outputs": [],
   "source": [
    "def read_corpus(count):\n",
    "    corpus = open(\"corpus\")\n",
    "    words = []\n",
    "    \n",
    "    for i in range(4):\n",
    "        next(corpus)\n",
    "        \n",
    "    for line in corpus:\n",
    "        splits = line.split()\n",
    "        if splits != []:\n",
    "            words.append(splits[0])\n",
    "            if count < 0:\n",
    "                break\n",
    "            count -= 1\n",
    "        \n",
    "    return words"
   ]
  },
  {
   "cell_type": "code",
   "execution_count": 6,
   "metadata": {
    "collapsed": false
   },
   "outputs": [
    {
     "data": {
      "text/plain": [
       "DictVectorizer(dtype=<class 'numpy.float64'>, separator='=', sort=True,\n",
       "        sparse=True)"
      ]
     },
     "execution_count": 6,
     "metadata": {},
     "output_type": "execute_result"
    }
   ],
   "source": [
    "vectorizer.fit(generate_windows(4))"
   ]
  },
  {
   "cell_type": "code",
   "execution_count": 7,
   "metadata": {
    "collapsed": false,
    "scrolled": true
   },
   "outputs": [
    {
     "name": "stdout",
     "output_type": "stream",
     "text": [
      "\n"
     ]
    },
    {
     "name": "stderr",
     "output_type": "stream",
     "text": [
      "/home/zscseh93/anaconda3/lib/python3.6/site-packages/ipykernel/__main__.py:79: DeprecationWarning: elementwise == comparison failed; this will raise an error in the future.\n"
     ]
    },
    {
     "name": "stdout",
     "output_type": "stream",
     "text": [
      "||||||||"
     ]
    }
   ],
   "source": [
    "count = 10000\n",
    "words = read_corpus(count)\n",
    "\n",
    "vowel = \"a\"\n",
    "p_x, p_y = prepare_words(words, 1, vowel)\n",
    "np.savez(\"prepared_\" + vowel, x = p_x, y = p_y)"
   ]
  },
  {
   "cell_type": "code",
   "execution_count": 7,
   "metadata": {
    "collapsed": false
   },
   "outputs": [],
   "source": [
    "import random\n",
    "\n",
    "def next_batch(data_x, data_y, count):\n",
    "    batch_x, batch_y = [], []\n",
    "    indexes = random.sample(range(len(data_x)), count)\n",
    "    \n",
    "    for i in indexes:\n",
    "        batch_x.append(data_x[i])\n",
    "        batch_y.append(data_y[i])\n",
    "        \n",
    "    return batch_x, batch_y"
   ]
  },
  {
   "cell_type": "code",
   "execution_count": 8,
   "metadata": {
    "collapsed": false
   },
   "outputs": [],
   "source": [
    "def convert_time(time):\n",
    "    m, s = divmod(time, 60)\n",
    "    s, ms = divmod(s, 1)\n",
    "\n",
    "    return \"%02d:%02d:%04d\" % (m, s, ms * 1000)"
   ]
  },
  {
   "cell_type": "code",
   "execution_count": 9,
   "metadata": {
    "collapsed": true
   },
   "outputs": [],
   "source": [
    "input_size = 240\n",
    "output_size = 2\n",
    "\n",
    "n_input = tf.placeholder(tf.float32, [None, input_size])\n",
    "n_output = tf.placeholder(tf.float32, [None, output_size])\n",
    "\n",
    "hidden_neurons = 100\n",
    "hidden_neurons2 = 10\n",
    "\n",
    "b_hidden = tf.Variable(tf.random_normal([hidden_neurons]))\n",
    "W_hidden = tf.Variable(tf.random_normal([input_size, hidden_neurons]))\n",
    "hidden = tf.sigmoid(tf.matmul(n_input, W_hidden) + b_hidden)\n",
    "\n",
    "b_hidden2 = tf.Variable(tf.random_normal([hidden_neurons2]))\n",
    "W_hidden2 = tf.Variable(tf.random_normal([hidden_neurons, hidden_neurons2]))\n",
    "hidden2 = tf.sigmoid(tf.matmul(hidden, W_hidden2) + b_hidden2)\n",
    "\n",
    "W_output = tf.Variable(tf.random_normal([hidden_neurons2, output_size]))\n",
    "# output = tf.sigmoid(tf.matmul(hidden, W_output))\n",
    "output = tf.nn.softmax(tf.matmul(hidden2, W_output))\n",
    "\n",
    "# cost = tf.reduce_mean(tf.square(n_output - output))\n",
    "cost = tf.reduce_mean(-tf.reduce_sum(n_output * tf.log(output), reduction_indices=[1]))\n",
    "\n",
    "# optimizer = tf.train.GradientDescentOptimizer(0.5)\n",
    "optimizer = tf.train.AdamOptimizer()\n",
    "train = optimizer.minimize(cost)\n",
    "\n",
    "init = tf.initialize_all_variables()"
   ]
  },
  {
   "cell_type": "code",
   "execution_count": 44,
   "metadata": {
    "collapsed": false
   },
   "outputs": [
    {
     "name": "stdout",
     "output_type": "stream",
     "text": [
      "training started\n",
      "\n",
      "step:   0\n",
      "loss: 0.7805627584457397\n",
      "|||||||||||||||||||||||||||||||||||||||||||||||||||||||||||||||||||||||||||||||||||||||||||||||||||||||||||||||||||||||||||||||||||||||||||||||||||||||||||||||||||||||||||||||||||||||||||||||||||||||\n",
      "step: 10000\n",
      "loss: 0.10531564801931381\n",
      "|||||||||||||||||||||||||||||||||||||||||||||||||||||||||||||||||||||||||||||||||||||||||||||||||||||||||||||||||||||||||||||||||||||||||||||||||||||||||||||||||||||||||||||||||||||||||||||||||||||||\n",
      "step: 20000\n",
      "loss: 0.0389782078564167\n",
      "|||||||||||||||||||||||||||||||||||||||||||||||||||||||||||||||||||||||||||||||||||||||||||||||||||||||||||||||||||||||||||||||||||||||||||||||||||||||||||||||||||||||||||||||||||||||||||||||||||||||\n",
      "step: 30000\n",
      "loss: 0.005194925237447023\n",
      "|||||||||||||||||||||||||||||||||||||||||||||||||||||||||||||||||||||||||||||||||||||||||||||||||||||||||||||||||||||||||||||||||||||||||||||||||||||||||||||||||||||||||||||||||||||||||||||||||||||||\n",
      "step: 40000\n",
      "loss: 0.009362807497382164\n",
      "|||||||||||||||||||||||||||||||||||||||||||||||||||||||||||||||||||||||||||||||||||||||||||||||||||||||||||||||||||||||||||||||||||||||||||||||||||||||||||||||||||||||||||||||||||||||||||||||||||||||\n",
      "step: 50000\n",
      "loss: 0.016019053757190704\n",
      "\n",
      "elapsed time: 06:04:0853\n",
      "best loss: 0.144174\n"
     ]
    }
   ],
   "source": [
    "import random\n",
    "import time\n",
    "\n",
    "from sklearn.model_selection import train_test_split\n",
    "\n",
    "sess = tf.Session()\n",
    "sess.run(init)\n",
    "print(\"training started\")\n",
    "\n",
    "current_vowel = \"a\"\n",
    "\n",
    "prepared_data = np.load(\"prepared_\" + current_vowel + \".npz\")\n",
    "train_x, valid_test_x, train_y, valid_test_y = train_test_split(prepared_data[\"x\"], prepared_data[\"y\"], test_size = 0.4)\n",
    "valid_x, test_x, valid_y, test_y = train_test_split(valid_test_x, valid_test_y, test_size = 0.5)\n",
    "\n",
    "saver = tf.train.Saver()\n",
    "\n",
    "best_epoch = 0\n",
    "best_loss = 100\n",
    "last_loss = 0\n",
    "\n",
    "losses = []\n",
    "vlosses = []\n",
    "eepoch = 0\n",
    "\n",
    "start_time = time.perf_counter()\n",
    "for i in range(50001):\n",
    "    batch_x, batch_y = next_batch(train_x, train_y, 100)\n",
    "    cvalues = sess.run([train, cost, W_hidden, b_hidden, W_hidden2, b_hidden2, W_output], feed_dict={n_input: batch_x, n_output: batch_y})\n",
    "\n",
    "    \n",
    "    # early stopping\n",
    "    if i % 50 == 0:\n",
    "        last_loss = cvalues[1]\n",
    "        losses += [last_loss]\n",
    "        \n",
    "        vcost = sess.run(cost, feed_dict={n_input: valid_x, n_output: valid_y})\n",
    "        vlosses += [vcost]\n",
    "        \n",
    "        if vcost < best_loss:\n",
    "            best_epoch = i\n",
    "            best_loss = vcost\n",
    "            saver.save(sess, \"session\")\n",
    "        elif i - best_epoch > 5000 and eepoch == 0:\n",
    "#             saver.restore(sess, \"session\")\n",
    "            eepoch = best_epoch\n",
    "#             break\n",
    "\n",
    "    if i % 10000 == 0:\n",
    "        print(\"\")\n",
    "        print(\"step: {:>3}\".format(i))\n",
    "        print(\"loss: {}\".format(cvalues[1]))\n",
    "    elif i % 50 == 0:\n",
    "        print('|', end=\"\")\n",
    "        \n",
    "    last_loss = cvalues[1]\n",
    "\n",
    "print(\"\")\n",
    "print(\"elapsed time: \" + convert_time(time.perf_counter() - start_time))\n",
    "print(\"best loss: \" + str(best_loss))\n",
    "\n",
    "result = sess.run(output, feed_dict={n_input: test_x})\n",
    "# saver.restore(sess, \"session\")\n",
    "# result_best = sess.run(output, feed_dict={n_input: test_x})"
   ]
  },
  {
   "cell_type": "code",
   "execution_count": 45,
   "metadata": {
    "collapsed": false
   },
   "outputs": [
    {
     "name": "stdout",
     "output_type": "stream",
     "text": [
      "accuracy (0.0160191): 0.9584205587237421\n",
      "train size: 41558\n",
      "test size: 13853\n"
     ]
    }
   ],
   "source": [
    "def decide(y, vowel):\n",
    "    if(vowel in \"aei\"):\n",
    "        tmp = [0, 0]\n",
    "    else:\n",
    "        tmp = [0, 0, 0, 0]\n",
    "    tmp[list(y).index(max(y))] = 1\n",
    "    return tmp\n",
    "    \n",
    "success = 0\n",
    "\n",
    "for i in range(len(result)):\n",
    "    if np.array_equal(decide(result[i], current_vowel), test_y[i]):\n",
    "        success += 1\n",
    "        \n",
    "print(\"accuracy (\" + str(last_loss) + \"): \" + str(success / len(result)))\n",
    "\n",
    "\n",
    "# success = 0\n",
    "\n",
    "# for i in range(len(result_best)):\n",
    "#     if np.array_equal(decide(result_best[i], current_vowel), test_y[i]):\n",
    "#         success += 1\n",
    "        \n",
    "# print(\"accuracy (\" + str(best_loss) + \"): \" + str(success / len(result_best)))\n",
    "print(\"train size: \" + str(len(train_x)))\n",
    "print(\"test size: \" + str(len(test_x)))"
   ]
  },
  {
   "cell_type": "code",
   "execution_count": 47,
   "metadata": {
    "collapsed": false
   },
   "outputs": [
    {
     "data": {
      "image/png": "[encoded data removed]",
      "text/plain": [
       "<matplotlib.figure.Figure at 0x7f6b264929e8>"
      ]
     },
     "metadata": {},
     "output_type": "display_data"
    }
   ],
   "source": [
    "import matplotlib.pyplot as plt\n",
    "%matplotlib inline\n",
    "\n",
    "plt.figure(figsize=(10, 5))\n",
    "plt.ylim(0, 0.8)\n",
    "plt.title('Hiba mértéke')\n",
    "plt.plot(np.arange(len(losses)) * 50, losses, color ='g', label='Hiba mértéke a tanító adatokon') \n",
    "plt.plot(np.arange(len(vlosses)) * 50, vlosses, color ='b', label='Hiba mértéke a validációs adatokon')\n",
    "plt.axvline(x=eepoch, ymin=0., ymax=1., linewidth=1, color='k')\n",
    "plt.legend(loc='upper right')\n",
    "plt.xlabel('Tanulási iterációk száma')\n",
    "plt.ylabel('y')\n",
    "plt.grid(True)\n",
    "plt.show()"
   ]
  },
  {
   "cell_type": "code",
   "execution_count": 76,
   "metadata": {
    "collapsed": false
   },
   "outputs": [
    {
     "name": "stdout",
     "output_type": "stream",
     "text": [
      "['Zsarnoki', 'törvény', 'és', 'erkölcsi', 'zsarnokság', 'egyaránt', 'nyomasztó.']\n",
      "\n",
      "[[0, 1], [0, 1], [1, 0], [1, 0]]\n"
     ]
    },
    {
     "name": "stderr",
     "output_type": "stream",
     "text": [
      "/home/zscseh93/anaconda3/envs/tensorflow/lib/python3.5/site-packages/ipykernel/__main__.py:79: DeprecationWarning: elementwise == comparison failed; this will raise an error in the future.\n"
     ]
    }
   ],
   "source": [
    "test_data = \"Zsarnoki törvény és erkölcsi zsarnokság egyaránt nyomasztó.\"\n",
    "# test_data = \"A felújítás alatt álló épület tetőszerkezete beszakadt, és rázuhant a gyülekezetre.\"\n",
    "# test_data = \"Bizonyára méltóságteljes, hatalmas termetem indíthatta a gyermeket ilyen képzelettársításokra.\"\n",
    "# test_data = \"Változó korba kerültünk és ez külsőnkön is nyomot hagyott\"\n",
    "tmp = test_data.split(\" \")\n",
    "print(tmp)\n",
    "test_x, test_y = prepare_words(tmp, 4, current_vowel)\n",
    "# test_x = vectorizer.transform(tmp_x).toarray()\n",
    "\n",
    "print(test_y)"
   ]
  },
  {
   "cell_type": "code",
   "execution_count": 77,
   "metadata": {
    "collapsed": false
   },
   "outputs": [
    {
     "name": "stdout",
     "output_type": "stream",
     "text": [
      "[[0, 1], [0, 1], [1, 0], [1, 0]]\n"
     ]
    }
   ],
   "source": [
    "result = sess.run(output, feed_dict={n_input: test_x})\n",
    "\n",
    "result_list = []\n",
    "for i in result:\n",
    "    result_list.append(decide(i, current_vowel))\n",
    "\n",
    "print(result_list)"
   ]
  },
  {
   "cell_type": "code",
   "execution_count": null,
   "metadata": {
    "collapsed": true
   },
   "outputs": [],
   "source": []
  }
 ],
 "metadata": {
  "anaconda-cloud": {},
  "kernelspec": {
   "display_name": "Python 3",
   "language": "python",
   "name": "python3"
  },
  "language_info": {
   "codemirror_mode": {
    "name": "ipython",
    "version": 3
   },
   "file_extension": ".py",
   "mimetype": "text/x-python",
   "name": "python",
   "nbconvert_exporter": "python",
   "pygments_lexer": "ipython3",
   "version": "3.6.0"
  }
 },
 "nbformat": 4,
 "nbformat_minor": 0
}
